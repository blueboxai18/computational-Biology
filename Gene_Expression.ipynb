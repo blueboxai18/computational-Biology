{
  "nbformat": 4,
  "nbformat_minor": 0,
  "metadata": {
    "colab": {
      "name": "Gene Expression.ipynb",
      "version": "0.3.2",
      "provenance": []
    },
    "kernelspec": {
      "name": "python3",
      "display_name": "Python 3"
    }
  },
  "cells": [
    {
      "metadata": {
        "id": "VAjXQUz2dO8C",
        "colab_type": "text"
      },
      "cell_type": "markdown",
      "source": [
        "**Provides new cases of cancer could be classified by gene expression monitoring (via DNA microarray) and thereby provided a general approach for identifying new cancer classes and assigning tumors to known classes. These data were used to classify patients with *acute myeloid leukemia* (AML) and *acute lymphoblastic leukemia (ALL)*.**"
      ]
    },
    {
      "metadata": {
        "id": "WWEF3poATrOL",
        "colab_type": "code",
        "colab": {}
      },
      "cell_type": "code",
      "source": [
        "import numpy as np # linear algebra, any number calculations\n",
        "import pandas as pd # data processing, CSV file I/O (e.g. pd.read_csv)"
      ],
      "execution_count": 0,
      "outputs": []
    },
    {
      "metadata": {
        "id": "_yeZiukEVQwZ",
        "colab_type": "text"
      },
      "cell_type": "markdown",
      "source": [
        "If you want to check the contents of a directory"
      ]
    },
    {
      "metadata": {
        "id": "pqrY4ssMT7zC",
        "colab_type": "code",
        "colab": {}
      },
      "cell_type": "code",
      "source": [
        "from subprocess import check_output # import subprocess\n",
        "print(check_output([\"ls\", \"..\"]).decode(\"utf8\"))"
      ],
      "execution_count": 0,
      "outputs": []
    },
    {
      "metadata": {
        "id": "GDQnTnafVuqc",
        "colab_type": "code",
        "colab": {}
      },
      "cell_type": "code",
      "source": [
        "\n",
        "import seaborn as sns\n",
        "\n",
        "import matplotlib.pyplot as plt # Plots, graphs, charts, etc.\n",
        "% matplotlib inline\n",
        "\n",
        "import tensorflow as tf # Tensorflow from Google\n",
        "\n",
        "tf.reset_default_graph() # Don't worry about this now\n",
        "\n",
        "\n",
        "import matplotlib\n",
        "\n",
        "\n",
        "from tensorflow.contrib import learn\n",
        "from sklearn import cross_validation #sklearn - AI / Machine Learning Library\n",
        "from sklearn import preprocessing\n",
        "from sklearn import metrics\n",
        "from __future__ import print_function\n",
        "\n",
        "%matplotlib inline"
      ],
      "execution_count": 0,
      "outputs": []
    },
    {
      "metadata": {
        "id": "a_7avTzGVZLW",
        "colab_type": "text"
      },
      "cell_type": "markdown",
      "source": [
        "<h2>Load the gene data</h2>\n",
        "\n",
        "We will load the gene data from the files - genes with AML and ALL"
      ]
    },
    {
      "metadata": {
        "id": "9-G0KJMwVqcz",
        "colab_type": "code",
        "colab": {}
      },
      "cell_type": "code",
      "source": [
        "from google.colab import files\n",
        "\n",
        "uploaded = files.upload()\n",
        "\n",
        "for fn in uploaded.keys():\n",
        "  print('User uploaded file \"{name}\" with length {length} bytes'.format(\n",
        "      name=fn, length=len(uploaded[fn])))"
      ],
      "execution_count": 0,
      "outputs": []
    },
    {
      "metadata": {
        "id": "SCKQOEQaaqDh",
        "colab_type": "text"
      },
      "cell_type": "markdown",
      "source": [
        "**Load the gene data into dataframe for analysis**\n"
      ]
    },
    {
      "metadata": {
        "id": "WW1zV543bMZS",
        "colab_type": "code",
        "colab": {}
      },
      "cell_type": "code",
      "source": [
        "df1=pd.read_csv('data_set_ALL_AML_independent.csv') # dataframe df1\n",
        "df2=pd.read_csv('data_set_ALL_AML_train.csv')"
      ],
      "execution_count": 0,
      "outputs": []
    },
    {
      "metadata": {
        "id": "s0o8lX97bVgN",
        "colab_type": "text"
      },
      "cell_type": "markdown",
      "source": [
        "**Check what is in the files**"
      ]
    },
    {
      "metadata": {
        "id": "CLGIfoCKbQck",
        "colab_type": "code",
        "colab": {}
      },
      "cell_type": "code",
      "source": [
        "print(df1.columns) # Print will print the columns attribute of dataframe\n",
        "print(df2.columns)"
      ],
      "execution_count": 0,
      "outputs": []
    },
    {
      "metadata": {
        "id": "a1HakCtibhEa",
        "colab_type": "text"
      },
      "cell_type": "markdown",
      "source": [
        "**Check some sample data loaded**"
      ]
    },
    {
      "metadata": {
        "id": "wBPz0A0Kbq9Y",
        "colab_type": "code",
        "colab": {}
      },
      "cell_type": "code",
      "source": [
        "print(df1.head()) # Head will display five rows of the data\n",
        "print (\"+++++++++++++++++++++++++++++++++++++++\")\n",
        "print(\"---------------------Train Data---------------\")\n",
        "print(df2.head())"
      ],
      "execution_count": 0,
      "outputs": []
    },
    {
      "metadata": {
        "id": "_TOBy3E-cIfa",
        "colab_type": "text"
      },
      "cell_type": "markdown",
      "source": [
        "**Replace  A, P, M with 1, 2, 3** \n",
        "Why would you want to replace with 1,2,3???"
      ]
    },
    {
      "metadata": {
        "id": "cqG-i3hQcTeh",
        "colab_type": "code",
        "colab": {}
      },
      "cell_type": "code",
      "source": [
        "df1.replace(['A','P','M'],['1','2','3'],inplace=True)\n",
        "df2.replace(['A','P','M'],['1','2','3'],inplace=True)"
      ],
      "execution_count": 0,
      "outputs": []
    },
    {
      "metadata": {
        "id": "p8cnXy-kcX3P",
        "colab_type": "code",
        "colab": {}
      },
      "cell_type": "code",
      "source": [
        "print(df1.head())\n"
      ],
      "execution_count": 0,
      "outputs": []
    },
    {
      "metadata": {
        "id": "syoD2BJHcnv_",
        "colab_type": "code",
        "colab": {}
      },
      "cell_type": "code",
      "source": [
        "sns.heatmap(df1.corr()) \n",
        "plt.figure(figsize=(260,120)) "
      ],
      "execution_count": 0,
      "outputs": []
    },
    {
      "metadata": {
        "id": "pp3Ykz25cyPo",
        "colab_type": "code",
        "colab": {}
      },
      "cell_type": "code",
      "source": [
        "sns.heatmap(df2.corr()) "
      ],
      "execution_count": 0,
      "outputs": []
    },
    {
      "metadata": {
        "id": "KHw1ZAonc2XW",
        "colab_type": "code",
        "colab": {}
      },
      "cell_type": "code",
      "source": [
        ""
      ],
      "execution_count": 0,
      "outputs": []
    }
  ]
}