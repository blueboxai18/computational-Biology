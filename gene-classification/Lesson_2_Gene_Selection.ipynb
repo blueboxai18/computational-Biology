{
  "nbformat": 4,
  "nbformat_minor": 0,
  "metadata": {
    "colab": {
      "name": "Lesson 2 -- Gene Selection.ipynb",
      "version": "0.3.2",
      "provenance": []
    },
    "kernelspec": {
      "display_name": "Python 2",
      "language": "python",
      "name": "python2"
    }
  },
  "cells": [
    {
      "metadata": {
        "id": "EF8vnnXUUe7j",
        "colab_type": "code",
        "colab": {}
      },
      "cell_type": "code",
      "source": [
        "# To make the program better\n",
        "# magic! (don't worry about this)\n",
        "%load_ext autoreload\n",
        "%autoreload 2"
      ],
      "execution_count": 0,
      "outputs": []
    },
    {
      "metadata": {
        "id": "cm8siJQyL4de",
        "colab_type": "code",
        "colab": {}
      },
      "cell_type": "code",
      "source": [
        "# clue is here to import lib, classifiers\n",
        "from google.colab import files\n",
        "\n",
        "uploaded = files.upload()\n",
        "\n",
        "for fn in uploaded.keys():\n",
        "  print('User uploaded file \"{name}\" with length {length} bytes'.format(\n",
        "      name=fn, length=len(uploaded[fn])))"
      ],
      "execution_count": 0,
      "outputs": []
    },
    {
      "metadata": {
        "id": "OFJG9yJxUe7q",
        "colab_type": "code",
        "colab": {}
      },
      "cell_type": "code",
      "source": [
        "# let us import some useful things\n",
        "from lib import * # This is not a standard library #TO DO\n",
        "from classifiers import * # This is not a standard library # To DO\n",
        "import math\n",
        "from scipy.stats import ttest_ind\n",
        "from scipy.special import stdtr\n",
        "import numpy as np"
      ],
      "execution_count": 0,
      "outputs": []
    },
    {
      "metadata": {
        "id": "dGyYLyATUe7u",
        "colab_type": "code",
        "colab": {}
      },
      "cell_type": "code",
      "source": [
        "# load the data same as before\n",
        "microarray_file_name = 'leukemia_ALL_AML_matrix.txt'\n",
        "labels_file_name = 'leukemia_ALL_AML_labels.txt'\n",
        "data_store = DataSet(microarray_file_name, labels_file_name)"
      ],
      "execution_count": 0,
      "outputs": []
    },
    {
      "metadata": {
        "id": "kHz5TJAiUe7y",
        "colab_type": "code",
        "outputId": "dccd5273-54ed-44f5-d7cb-d2ffd85c3d5e",
        "colab": {
          "base_uri": "https://localhost:8080/",
          "height": 51
        }
      },
      "cell_type": "code",
      "source": [
        "# first let's combine our train and test sets to use as much data as possible\n",
        "full_data_set = data_store.get_train_set() + data_store.get_test_set()\n",
        "\n",
        "# separate samples based on label\n",
        "ALL_gene_profiles_list = [s.get_gene_profile() for s in full_data_set if s.get_label() == 1]\n",
        "AML_gene_profiles_list = [s.get_gene_profile() for s in full_data_set if s.get_label() == 0]\n",
        "\n",
        "\n",
        "# let's select our most useful genes based on the Welch's t-test!\n",
        "init_number_of_genes = len(full_data_set[0].get_gene_profile())\n",
        "selected_genes = []\n",
        "for gene_id in range(init_number_of_genes):\n",
        "    gene_values_ALL_samples = [profile[gene_id] for profile in ALL_gene_profiles_list]\n",
        "    gene_values_AML_samples = [profile[gene_id] for profile in AML_gene_profiles_list]\n",
        "    \n",
        "    # TODO: use the formulas we've seen to compute the t-test value and the degree of freedom for the ALL and AML vector\n",
        "    # hint: to compute the mean and variance of each list -- use the np functions mean() and var()!\n",
        "    \n",
        "    t_test_val = -0.7 # TODO: change this line!For T-test\n",
        "    degree_of_freedom = 0.8 # TODO: change this line!\n",
        "\n",
        "    # now we can use an existing funtion to find the p-value (don't worry about this!)\n",
        "    p_value = 2*stdtr(degree_of_freedom, -np.abs(t_test_val))\n",
        "    \n",
        "    if(p_value < 0.05):\n",
        "        selected_genes.append(gene_id)\n",
        "\n",
        "print 'Number of informative genes: ' , len(selected_genes)\n",
        "\n",
        "# now let's update our dataset to ignore the genes that are not informative\n",
        "filtered_samples = []\n",
        "for sample in full_data_set:\n",
        "    new_sample = Sample(sample.get_label(), [sample.get_gene_profile()[i] for i in range(init_number_of_genes) if i in selected_genes])\n",
        "    filtered_samples.append(new_sample)\n",
        "    \n",
        "train_size = int(len(filtered_samples) * 0.66) # 2/3 of the data\n",
        "train_set = filtered_samples[:train_size]\n",
        "test_set = filtered_samples[train_size:]\n",
        "\n",
        "k = 3\n",
        "knn = KNearestNeighbors() # ML techniques used to classify lot of data\n",
        "knn.train(train_set) # provide training samples\n",
        "classified_samples = knn.classify(test_set, k, euclidean_distance)\n",
        "\n",
        "# let's evaluate how well the classifier worked\n",
        "evaluate_results(classified_samples)\n",
        "    "
      ],
      "execution_count": 10,
      "outputs": [
        {
          "output_type": "stream",
          "text": [
            "Number of informative genes:  0\n",
            "Accuracy: 72.00%\n"
          ],
          "name": "stdout"
        }
      ]
    },
    {
      "metadata": {
        "id": "0ubA1HJrUe76",
        "colab_type": "code",
        "colab": {}
      },
      "cell_type": "code",
      "source": [
        ""
      ],
      "execution_count": 0,
      "outputs": []
    }
  ]
}